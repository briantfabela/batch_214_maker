{
 "cells": [
  {
   "cell_type": "code",
   "execution_count": 1,
   "metadata": {},
   "outputs": [],
   "source": [
    "# import docx and text alignment \n",
    "import docx\n",
    "from docx.enum.text import WD_ALIGN_PARAGRAPH\n",
    "\n",
    "# import pandas for date iteration\n",
    "import pandas as pd"
   ]
  },
  {
   "cell_type": "code",
   "execution_count": 2,
   "metadata": {},
   "outputs": [],
   "source": [
    "# docuement template\n",
    "# naming convention example: 'ICS 214 - Briant - 06052020.docx'\n",
    "doc_name = 'ICS 214 - Briant -.docx'\n",
    "\n",
    "start_date = \"6/6/2020\"\n",
    "end_date = \"6/18/2020\"\n",
    "date_range = pd.date_range(start_date, end_date)\n",
    "\n",
    "start_time = \"0900\"\n",
    "end_time = \"1800\"\n",
    "\n",
    "activities = [ # common activites that will be included in all docs\n",
    "    \"Dashboards maintenance\",\n",
    "    \"Data updates\",\n",
    "    \"Dashboard development and testing of design and data integration\"\n",
    "]\n",
    "\n",
    "only_workdays = True # will only make docs for workdays\n",
    "\n",
    "left_align = WD_ALIGN_PARAGRAPH.LEFT"
   ]
  },
  {
   "cell_type": "code",
   "execution_count": 3,
   "metadata": {},
   "outputs": [],
   "source": [
    "# open file\n",
    "doc = docx.Document('ICS 214 - Briant -.docx')\n",
    "\n",
    "# Each document is a date in a date_range \n",
    "# iterate tru date_range in the right date format\n",
    "\n",
    "for date in date_range:\n",
    "    # if date is weekend and only weekdays wanted ignore that date\n",
    "    if date.day_name() in ('Saturday', 'Sunday') and only_workdays:\n",
    "        pass\n",
    "    else:\n",
    "\n",
    "        date_text = date.strftime(\"%m/%d/%Y\") # str of date format\n",
    "        \n",
    "        # modify start date\n",
    "        doc.tables[0].rows[1].cells[4].text = f\"Date - From: {date_text}\"\n",
    "        doc.tables[0].rows[1].cells[4].paragraphs[0].alignment = left_align\n",
    "        \n",
    "        # modify end date\n",
    "        doc.tables[0].rows[1].cells[5].text = f\"To: {date_text}\"\n",
    "        doc.tables[0].rows[1].cells[5].paragraphs[0].alignment = left_align\n",
    "        \n",
    "        # modify start time\n",
    "        doc.tables[0].rows[2].cells[4].text = f\"Time - From: {start_time}\"\n",
    "        doc.tables[0].rows[2].cells[4].paragraphs[0].alignment = left_align\n",
    "        \n",
    "        # modify end time\n",
    "        doc.tables[0].rows[2].cells[5].text = f\"To: {end_time}\"\n",
    "        doc.tables[0].rows[2].cells[5].paragraphs[0].alignment = left_align\n",
    "        \n",
    "        # start time in table\n",
    "        doc.tables[0].rows[5].cells[4].text = start_time\n",
    "        \n",
    "        # end time in table\n",
    "        doc.tables[0].rows[23].cells[1].text = end_time\n",
    "        \n",
    "        # add activities\n",
    "        for i in range(5, 5+len(activities)):\n",
    "            doc.tables[0].rows[i].cells[5].text = activities[i-5]\n",
    "            doc.tables[0].rows[i].cells[5].paragraphs[0].alignment = left_align\n",
    "        \n",
    "        # set preparation date\n",
    "        doc.tables[0].rows[25].cells[1].text = f\"Date/Time: {date_text}\"\n",
    "        doc.tables[0].rows[25].cells[1].paragraphs[0].alignment = left_align\n",
    "        \n",
    "        doc.save(f'214s/ICS 214 - Briant - {date.strftime(\"%m%d%Y\")}.docx')"
   ]
  },
  {
   "cell_type": "code",
   "execution_count": null,
   "metadata": {},
   "outputs": [],
   "source": []
  }
 ],
 "metadata": {
  "kernelspec": {
   "display_name": "Python 3",
   "language": "python",
   "name": "python3"
  },
  "language_info": {
   "codemirror_mode": {
    "name": "ipython",
    "version": 3
   },
   "file_extension": ".py",
   "mimetype": "text/x-python",
   "name": "python",
   "nbconvert_exporter": "python",
   "pygments_lexer": "ipython3",
   "version": "3.7.0"
  }
 },
 "nbformat": 4,
 "nbformat_minor": 4
}
